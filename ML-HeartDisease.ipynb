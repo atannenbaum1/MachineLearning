{
  "nbformat": 4,
  "nbformat_minor": 0,
  "metadata": {
    "colab": {
      "name": "Copy of Heart_proj.ipynb",
      "provenance": [],
      "collapsed_sections": []
    },
    "kernelspec": {
      "name": "python3",
      "display_name": "Python 3"
    }
  },
  "cells": [
    {
      "cell_type": "markdown",
      "metadata": {
        "id": "7DRs_8AWlK1S"
      },
      "source": [
        "# **Binary Classification using Logistic Regression on Heart Data Set**\n",
        "\n",
        "# *Description*:\n",
        "\n",
        "**Goal**: Build a Binary Classification Model to predict whether or not an individual has heart disease\n",
        "\n",
        "**Methodology**: weigh 13 attributes using logistic regression \n",
        "\n",
        "**Attributes**:\n",
        "\n",
        "-- 1. age\n",
        "\n",
        "-- 2. sex\n",
        "\n",
        "-- 3. chest pain type (4 values)\n",
        "\n",
        "-- 4. resting blood pressure\n",
        "\n",
        "-- 5. serum cholestoral in mg/dl\n",
        "\n",
        "-- 6. fasting blood sugar > 120 mg/dl\n",
        "\n",
        "-- 7. resting electrocardiographic results (values 0,1,2)\n",
        "\n",
        "-- 8. maximum heart rate achieved\n",
        "\n",
        "-- 9. exercise induced angina\n",
        "\n",
        "-- 10. oldpeak = ST depression induced by exercise relative to rest\n",
        "\n",
        "-- 11. the slope of the peak exercise ST segment\n",
        "\n",
        "-- 12. number of major vessels (0-3) colored by flourosopy\n",
        "\n",
        "-- 13. thal: 3 = normal; 6 = fixed defect; 7 = reversable defect\n"
      ]
    },
    {
      "cell_type": "markdown",
      "metadata": {
        "id": "5pEsJ72snKA9"
      },
      "source": [
        "# **Data Import and Cleaning**"
      ]
    },
    {
      "cell_type": "code",
      "metadata": {
        "id": "fwlWUxvFlJXe"
      },
      "source": [
        "#import relevant libraries\n",
        "import numpy as np\n",
        "import pandas as pd\n",
        "import matplotlib.pyplot as plt\n",
        "import seaborn as sns"
      ],
      "execution_count": null,
      "outputs": []
    },
    {
      "cell_type": "markdown",
      "metadata": {
        "id": "z9GpfvmYnkqx"
      },
      "source": [
        "**Import Data Set**\n"
      ]
    },
    {
      "cell_type": "code",
      "metadata": {
        "id": "5ogyi_4ynXmt",
        "colab": {
          "resources": {
            "http://localhost:8080/nbextensions/google.colab/files.js": {
              "data": "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",
              "ok": true,
              "headers": [
                [
                  "content-type",
                  "application/javascript"
                ]
              ],
              "status": 200,
              "status_text": ""
            }
          },
          "base_uri": "https://localhost:8080/",
          "height": 73
        },
        "outputId": "c56309e5-5d5d-4d68-c5fa-0fdd2c7d395f"
      },
      "source": [
        "#import files to google colab\n",
        "from google.colab import files\n",
        "uploaded = files.upload()"
      ],
      "execution_count": null,
      "outputs": [
        {
          "output_type": "display_data",
          "data": {
            "text/html": [
              "\n",
              "     <input type=\"file\" id=\"files-2c4f2243-ba1e-4286-b090-3266d9b29e40\" name=\"files[]\" multiple disabled\n",
              "        style=\"border:none\" />\n",
              "     <output id=\"result-2c4f2243-ba1e-4286-b090-3266d9b29e40\">\n",
              "      Upload widget is only available when the cell has been executed in the\n",
              "      current browser session. Please rerun this cell to enable.\n",
              "      </output>\n",
              "      <script src=\"/nbextensions/google.colab/files.js\"></script> "
            ],
            "text/plain": [
              "<IPython.core.display.HTML object>"
            ]
          },
          "metadata": {
            "tags": []
          }
        },
        {
          "output_type": "stream",
          "text": [
            "Saving heart_alt.txt to heart_alt.txt\n"
          ],
          "name": "stdout"
        }
      ]
    },
    {
      "cell_type": "code",
      "metadata": {
        "id": "_pAH9IhKnwWX"
      },
      "source": [
        "import io\n",
        "\n",
        "# assign temporary field values before for data cleaning\n",
        "# I'll assign some temporary field names to the dataframe while I clean and import the data\n",
        "# the data contains some NaN values pushing the the last field into a new column, so I assigned 15 temporary field names\n",
        "tempfields = range(15)\n",
        "\n",
        "# altered read_csv command for google colab\n",
        "data = pd.read_csv(io.BytesIO(uploaded['heart_alt.txt']), sep = \" \", names = tempfields)"
      ],
      "execution_count": null,
      "outputs": []
    },
    {
      "cell_type": "markdown",
      "metadata": {
        "id": "za_mukzUE1CI"
      },
      "source": [
        "**Data Cleaning**"
      ]
    },
    {
      "cell_type": "code",
      "metadata": {
        "id": "t51kiizzoMKD"
      },
      "source": [
        "#change male values to 1 and female values to 0 use for calculations in modeling \n",
        "for i in range(data.shape[0]):\n",
        "  if data.loc[i, 1] == 'M':\n",
        "    data.loc[i, 1] = 1\n",
        "  else:\n",
        "    data.loc[i, 1] = 0  "
      ],
      "execution_count": null,
      "outputs": []
    },
    {
      "cell_type": "code",
      "metadata": {
        "id": "GQU9fle4pjhm"
      },
      "source": [
        "#formatting data for manipulation\n",
        "\n",
        "data_val = data.values\n",
        "data_val = np.delete(data_val, 14, 1)\n",
        "data_val = data_val.reshape((-1, 14))\n",
        "data = pd.DataFrame(data_val, columns = range(0, 14))\n",
        "data.columns = ['Sex', 'Age', 'chest pain type', 'resting blood pressure', 'serum cholesterol', 'fasting blood sugar', 'resting ECG results', \n",
        "                 'Maximum Heart Rate', 'exercise induced angina', 'ST depressioninduced by exercise', 'slope of peak ST segment', 'number of vessels in flouroscopy',\n",
        "                 'thal', 'Heart Disease Present']"
      ],
      "execution_count": null,
      "outputs": []
    },
    {
      "cell_type": "markdown",
      "metadata": {
        "id": "KDxzWsKmZDpn"
      },
      "source": [
        "# **Method 1: Manual Calculations**"
      ]
    },
    {
      "cell_type": "code",
      "metadata": {
        "id": "IWQ0S644XOCK"
      },
      "source": [
        "#I'm predicting the last field of the data set (presence of Heart disease) so I'll split up my set into X and Y\n",
        "Y = data_val[:, 13]\n",
        "X = np.delete(data_val, 13, axis = 1)"
      ],
      "execution_count": null,
      "outputs": []
    },
    {
      "cell_type": "code",
      "metadata": {
        "id": "mYh9iA97Zzuc"
      },
      "source": [
        "# now I'll look at the amount of instances and features present\n",
        "N = data_val.shape[0]\n",
        "D = data_val.shape[1]\n",
        "N, D\n",
        "\n",
        "# change values from 1s and 2s to 0s and 1s in Y to line up well with booleans\n",
        "for i in range(N):\n",
        "  if Y[i] == 2:\n",
        "    Y[i] = 1\n",
        "  else:\n",
        "    Y[i] = 0\n",
        "\n",
        "Y = Y[np.newaxis].T"
      ],
      "execution_count": null,
      "outputs": []
    },
    {
      "cell_type": "code",
      "metadata": {
        "id": "o9Y2Xk0WZ2uy"
      },
      "source": [
        "# append bias value of ones to data\n",
        "bias = np.ones(N)[np.newaxis].T\n",
        "X = np.append(bias, X, axis = 1)"
      ],
      "execution_count": null,
      "outputs": []
    },
    {
      "cell_type": "code",
      "metadata": {
        "id": "mWZmldrtdY1d"
      },
      "source": [
        "#feature scaling so does not impact weights\n",
        "def featurescale(X, N, D):\n",
        "  means = np.zeros(D)\n",
        "  stds = np.zeros(D)\n",
        "  for i in range(D):\n",
        "    means[i] = np.mean(X[:, i])\n",
        "    stds[i]= np.std(X[:, i])\n",
        "\n",
        "  for j in range(1, D):\n",
        "    for i in range(N):\n",
        "      X[i, j] = (X[i, j] - means[j])/(stds[j])\n",
        "\n",
        "featurescale(X, N, D)"
      ],
      "execution_count": null,
      "outputs": []
    },
    {
      "cell_type": "code",
      "metadata": {
        "id": "ctw1pcRfdavr"
      },
      "source": [
        "#random initialized weights\n",
        "weights = np.ones(D).astype(np.float128)\n",
        "#weights = weights.astype(np.float)\n",
        "X = X.astype(np.float)"
      ],
      "execution_count": null,
      "outputs": []
    },
    {
      "cell_type": "code",
      "metadata": {
        "id": "wosq_PSteCV4",
        "colab": {
          "base_uri": "https://localhost:8080/"
        },
        "outputId": "da0b5a05-c7f8-4670-ec03-67f5bcae9c76"
      },
      "source": [
        "#sigmoid and predictions\n",
        "def sig(X, weights):\n",
        "   sig = 1/(1 + np.exp(X.dot(weights)))\n",
        "   #predict = np.round(sig)\n",
        "   return sig\n",
        "  \n",
        "predictions = sig(X, weights)\n",
        "np.mean(Y == predictions)"
      ],
      "execution_count": null,
      "outputs": [
        {
          "output_type": "execute_result",
          "data": {
            "text/plain": [
              "0.0"
            ]
          },
          "metadata": {
            "tags": []
          },
          "execution_count": 11
        }
      ]
    },
    {
      "cell_type": "code",
      "metadata": {
        "id": "GdafdGPZoAet"
      },
      "source": [
        "#cross entropy error\n",
        "def CEE(predictions, target, N):\n",
        "  Error = 0\n",
        "  for i in range(N):\n",
        "    Error -= target[i]*np.log(predictions[i]) +(1 - target[i])*np.log(1 - predictions[i])\n",
        "  \n",
        "  return Error"
      ],
      "execution_count": null,
      "outputs": []
    },
    {
      "cell_type": "code",
      "metadata": {
        "id": "G2XdRXoX8Ddm"
      },
      "source": [
        "#corrected dimensions needed for GD\n",
        "predictions = predictions[np.newaxis].T\n",
        "weights = np.ones(D)[np.newaxis]"
      ],
      "execution_count": null,
      "outputs": []
    },
    {
      "cell_type": "code",
      "metadata": {
        "id": "uAafFOAcoCZZ"
      },
      "source": [
        "#gradient descent\n",
        "weights = weights.astype(np.float128)\n",
        "X = X.astype(np.float128)\n",
        "predictions = predictions.astype(np.float128)\n",
        "Y = Y.astype(np.float128)\n",
        "\n",
        "#data split for training a test set\n",
        "train_num =  int(N*0.7)\n",
        "X_train = X[0:train_num, :]\n",
        "X_test = X[train_num:, :]\n",
        "Y_train = Y[0:train_num, :]\n",
        "Y_test = Y[train_num:, :]\n",
        "predictions_train = predictions[0:train_num, :]"
      ],
      "execution_count": null,
      "outputs": []
    },
    {
      "cell_type": "code",
      "metadata": {
        "id": "vymZPjJHFGkA"
      },
      "source": [
        "# copies for GD algorithm\n",
        "weights_log = np.copy(weights)\n",
        "predictions_log = np.copy(predictions)\n",
        "predictions_log_train = np.copy(predictions_train)"
      ],
      "execution_count": null,
      "outputs": []
    },
    {
      "cell_type": "code",
      "metadata": {
        "id": "NN7yKk4r57nw"
      },
      "source": [
        "#gradient descent\n",
        "\n",
        "lr = 0.001 #learning rate\n",
        "CEE_track = []\n",
        "\n",
        "for i in range(200):\n",
        "  #weights += lr * X.T.dot(Y - predictions)\n",
        "  weights_log += lr * (np.dot((predictions_log_train - Y_train).T, X_train)- weights_log)\n",
        "  predictions_log_train = sig(X_train, weights_log.T)\n",
        "\n",
        "  #append to CEE\n",
        "  cee_loop = CEE(predictions_log_train, Y_train, train_num)\n",
        "  CEE_track.append(cee_loop)"
      ],
      "execution_count": null,
      "outputs": []
    },
    {
      "cell_type": "code",
      "metadata": {
        "id": "M4PB4MOS85O4",
        "colab": {
          "base_uri": "https://localhost:8080/",
          "height": 297
        },
        "outputId": "b5c52f14-2655-417c-be2c-dd75ca03c44a"
      },
      "source": [
        "\n",
        "# Create figure\n",
        "fig, (ax1, ax2) = plt.subplots(2, 1)\n",
        "\n",
        "# First 25 iteraitons of CEE\n",
        "ax1.plot(CEE_track, label = \"Loss Function\")\n",
        "ax1.set(title='Loss function over first 25 iterations')\n",
        "ax1.legend(loc = \"upper right\")\n",
        "ax1.set_xlabel(\"Iteration\")\n",
        "ax1.set_ylabel(\"Cross Entropy Error\")\n",
        "ax1.set_xlim([0, 25])\n",
        "\n",
        "# all iterations of CEE\n",
        "ax2.plot(CEE_track, label = \"Loss Function\")\n",
        "ax2.set(title='Loss Function over all Iterations')\n",
        "ax2.legend(loc = \"upper right\")\n",
        "ax2.set_ylabel(\"Cross Entropy Error\")\n",
        "ax2.set_xlabel(\"Iteration\")\n",
        "ax2.set_xlim([0, 200])\n",
        "\n",
        "fig.tight_layout()\n",
        "plt.show()"
      ],
      "execution_count": null,
      "outputs": [
        {
          "output_type": "display_data",
          "data": {
            "image/png": "[encoded data removed]",
            "text/plain": [
              "<Figure size 432x288 with 2 Axes>"
            ]
          },
          "metadata": {
            "tags": [],
            "needs_background": "light"
          }
        }
      ]
    },
    {
      "cell_type": "code",
      "metadata": {
        "id": "59QYA3SJ-9Rd",
        "colab": {
          "base_uri": "https://localhost:8080/"
        },
        "outputId": "3b7b44f2-c297-4f09-9a05-bc7febfb2269"
      },
      "source": [
        "weights_log #view predicted constants"
      ],
      "execution_count": null,
      "outputs": [
        {
          "output_type": "execute_result",
          "data": {
            "text/plain": [
              "array([[ 0.06340529, -0.03960847, -0.15817665, -0.18332014, -0.07448198,\n",
              "        -0.04202169,  0.00819592, -0.06041704,  0.15478747, -0.1391298 ,\n",
              "        -0.16572114, -0.10346826, -0.24106226, -0.23390219]],\n",
              "      dtype=float128)"
            ]
          },
          "metadata": {
            "tags": []
          },
          "execution_count": 18
        }
      ]
    },
    {
      "cell_type": "code",
      "metadata": {
        "id": "saWAprL4lKX7"
      },
      "source": [
        "# try test data\n",
        "predictions_test = sig(X_test, weights_log.T)"
      ],
      "execution_count": null,
      "outputs": []
    },
    {
      "cell_type": "code",
      "metadata": {
        "id": "JRpAvn6JnKPG"
      },
      "source": [
        "pred_tr = np.round(predictions_test)"
      ],
      "execution_count": null,
      "outputs": []
    },
    {
      "cell_type": "code",
      "metadata": {
        "id": "1DRVntmQnALr",
        "colab": {
          "base_uri": "https://localhost:8080/"
        },
        "outputId": "e8fb7350-ddc6-4d93-bbd2-0ed387ec7dca"
      },
      "source": [
        "# accuracy measurement\n",
        "np.mean(Y_test == pred_tr)"
      ],
      "execution_count": null,
      "outputs": [
        {
          "output_type": "execute_result",
          "data": {
            "text/plain": [
              "0.8395061728395061"
            ]
          },
          "metadata": {
            "tags": []
          },
          "execution_count": 21
        }
      ]
    },
    {
      "cell_type": "code",
      "metadata": {
        "id": "TxtG-NTvnST6"
      },
      "source": [
        "pred_tr == Y_test"
      ],
      "execution_count": null,
      "outputs": []
    },
    {
      "cell_type": "code",
      "metadata": {
        "id": "X9m6UiGKGRt-"
      },
      "source": [
        "pred_r = np.round(predictions_log_train) "
      ],
      "execution_count": null,
      "outputs": []
    },
    {
      "cell_type": "code",
      "metadata": {
        "id": "dpNfd9MDGavs",
        "colab": {
          "base_uri": "https://localhost:8080/"
        },
        "outputId": "b2fd04a7-11e0-4769-cf5f-7649aab3c92e"
      },
      "source": [
        "np.mean(Y_train == pred_r)"
      ],
      "execution_count": null,
      "outputs": [
        {
          "output_type": "execute_result",
          "data": {
            "text/plain": [
              "0.8412698412698413"
            ]
          },
          "metadata": {
            "tags": []
          },
          "execution_count": 20
        }
      ]
    },
    {
      "cell_type": "markdown",
      "metadata": {
        "id": "hJieMzB7auXg"
      },
      "source": [
        "# **Method 2: Scikit-Learn Libraries**"
      ]
    },
    {
      "cell_type": "code",
      "metadata": {
        "id": "RYNXjGYEa14k"
      },
      "source": [
        "#import ML libraries\n",
        "from sklearn.linear_model import LogisticRegression\n",
        "from sklearn.model_selection import train_test_split"
      ],
      "execution_count": null,
      "outputs": []
    },
    {
      "cell_type": "code",
      "metadata": {
        "id": "ZagA4nZFiFkA"
      },
      "source": [
        "#split up training and test set\n",
        "X_train_sk, X_test_sk, y_train_sk, y_test_sk = train_test_split(X, Y, test_size=0.3, random_state=101)"
      ],
      "execution_count": null,
      "outputs": []
    },
    {
      "cell_type": "code",
      "metadata": {
        "id": "kWzMK2entPve"
      },
      "source": [
        "# define logistic regression with max iterations\n",
        "logmodel = LogisticRegression(max_iter = 200)"
      ],
      "execution_count": null,
      "outputs": []
    },
    {
      "cell_type": "code",
      "metadata": {
        "id": "dI1SSR75tVg3",
        "colab": {
          "base_uri": "https://localhost:8080/"
        },
        "outputId": "03082a92-9967-4ea0-df22-d322da9dfad2"
      },
      "source": [
        "#change to 1d arrays for sklearn libraries\n",
        "y_train_sk_1d = y_train_sk.ravel()\n",
        "y_train_sk_1d=y_train_sk_1d.astype('int')\n",
        "\n",
        "#run log regression\n",
        "logmodel.fit(X_train_sk, y_train_sk_1d)"
      ],
      "execution_count": null,
      "outputs": [
        {
          "output_type": "execute_result",
          "data": {
            "text/plain": [
              "LogisticRegression(C=1.0, class_weight=None, dual=False, fit_intercept=True,\n",
              "                   intercept_scaling=1, l1_ratio=None, max_iter=200,\n",
              "                   multi_class='auto', n_jobs=None, penalty='l2',\n",
              "                   random_state=None, solver='lbfgs', tol=0.0001, verbose=0,\n",
              "                   warm_start=False)"
            ]
          },
          "metadata": {
            "tags": []
          },
          "execution_count": 25
        }
      ]
    },
    {
      "cell_type": "code",
      "metadata": {
        "id": "kOUtz1HCwVs8"
      },
      "source": [
        "# test predictions\n",
        "predictions_sk = logmodel.predict(X_test_sk)\n",
        "predictions_sk=predictions_sk.astype('int')"
      ],
      "execution_count": null,
      "outputs": []
    },
    {
      "cell_type": "code",
      "metadata": {
        "id": "lsD8Zal3tdUK",
        "colab": {
          "base_uri": "https://localhost:8080/"
        },
        "outputId": "35047818-5913-416f-ccab-ab9a98b2b2d9"
      },
      "source": [
        "from sklearn.metrics import classification_report\n",
        "y_test_sk = y_test_sk.astype('int')\n",
        "print(classification_report(y_test_sk, predictions_sk))"
      ],
      "execution_count": null,
      "outputs": [
        {
          "output_type": "stream",
          "text": [
            "              precision    recall  f1-score   support\n",
            "\n",
            "           0       0.82      0.90      0.86        41\n",
            "           1       0.89      0.80      0.84        40\n",
            "\n",
            "    accuracy                           0.85        81\n",
            "   macro avg       0.86      0.85      0.85        81\n",
            "weighted avg       0.86      0.85      0.85        81\n",
            "\n"
          ],
          "name": "stdout"
        }
      ]
    },
    {
      "cell_type": "code",
      "metadata": {
        "id": "3B7iW0xzwGBh",
        "colab": {
          "base_uri": "https://localhost:8080/"
        },
        "outputId": "1ff2da9b-1ead-4f1f-b2c5-7c0e8c5a9bef"
      },
      "source": [
        "# get confusion matrix\n",
        "from sklearn.metrics import confusion_matrix\n",
        "confusion_matrix(y_test_sk, predictions_sk)"
      ],
      "execution_count": null,
      "outputs": [
        {
          "output_type": "execute_result",
          "data": {
            "text/plain": [
              "array([[37,  4],\n",
              "       [ 8, 32]])"
            ]
          },
          "metadata": {
            "tags": []
          },
          "execution_count": 28
        }
      ]
    },
    {
      "cell_type": "code",
      "metadata": {
        "id": "SDSmNOinxfVM"
      },
      "source": [
        "#more false positives than false negatives, probably better to have more false positives than false negatives for heart disease"
      ],
      "execution_count": null,
      "outputs": []
    },
    {
      "cell_type": "code",
      "metadata": {
        "id": "i8WNa7zQx2ph"
      },
      "source": [
        "from sklearn.metrics import mean_squared_error\n",
        "from math import sqrt\n",
        "rmse = sqrt(mean_squared_error(y_test_sk, predictions_sk))"
      ],
      "execution_count": null,
      "outputs": []
    },
    {
      "cell_type": "code",
      "metadata": {
        "colab": {
          "base_uri": "https://localhost:8080/"
        },
        "id": "zhOKKIF_9sUQ",
        "outputId": "8acdcbd2-8673-41c5-9d15-448124aa7217"
      },
      "source": [
        "rmse # want 0.2 to 0.5 so 0.385 is good"
      ],
      "execution_count": null,
      "outputs": [
        {
          "output_type": "execute_result",
          "data": {
            "text/plain": [
              "0.3849001794597505"
            ]
          },
          "metadata": {
            "tags": []
          },
          "execution_count": 31
        }
      ]
    },
    {
      "cell_type": "code",
      "metadata": {
        "colab": {
          "base_uri": "https://localhost:8080/"
        },
        "id": "r5voqBe5mHzV",
        "outputId": "06a4c6d4-d447-430d-b62a-c7f38102d1a7"
      },
      "source": [
        "# brier score: the closer to 0 the better\n",
        "from sklearn.metrics import brier_score_loss\n",
        "brier = brier_score_loss(y_test_sk, predictions_sk)\n",
        "brier"
      ],
      "execution_count": null,
      "outputs": [
        {
          "output_type": "execute_result",
          "data": {
            "text/plain": [
              "0.14814814814814814"
            ]
          },
          "metadata": {
            "tags": []
          },
          "execution_count": 32
        }
      ]
    },
    {
      "cell_type": "markdown",
      "metadata": {
        "id": "IS7hQkBvx3WE"
      },
      "source": [
        "# **Method 3: Tensorflow and Scikit-Learn**"
      ]
    },
    {
      "cell_type": "code",
      "metadata": {
        "id": "BIGlk6377kHA",
        "colab": {
          "base_uri": "https://localhost:8080/"
        },
        "outputId": "bc675b4b-81a9-4fe2-efc9-94dd74257839"
      },
      "source": [
        "try:\n",
        "  %tensorflow_version 2.x  # Colab only.\n",
        "except Exception:\n",
        "  pass\n",
        "\n",
        "import tensorflow as tf"
      ],
      "execution_count": null,
      "outputs": [
        {
          "output_type": "stream",
          "text": [
            "`%tensorflow_version` only switches the major version: 1.x or 2.x.\n",
            "You set: `2.x  # Colab only.`. This will be interpreted as: `2.x`.\n",
            "\n",
            "\n",
            "TensorFlow 2.x selected.\n"
          ],
          "name": "stdout"
        }
      ]
    },
    {
      "cell_type": "code",
      "metadata": {
        "id": "GPztbMJ6yNXG"
      },
      "source": [
        "#use sklearn to split data again\n",
        "X_train_tf, X_test_tf, y_train_tf, y_test_tf = train_test_split(X, Y, test_size=0.3, random_state=101)"
      ],
      "execution_count": null,
      "outputs": []
    },
    {
      "cell_type": "code",
      "metadata": {
        "id": "nQrvEiTY3HoB"
      },
      "source": [
        "#using keras in tensorflow\n",
        "tf_model = tf.keras.models.Sequential([\n",
        "  tf.keras.layers.Input(shape=(D,)),\n",
        "  tf.keras.layers.Dense(1, activation='sigmoid')\n",
        "])"
      ],
      "execution_count": null,
      "outputs": []
    },
    {
      "cell_type": "code",
      "metadata": {
        "id": "uh8velzF5SUn",
        "colab": {
          "base_uri": "https://localhost:8080/"
        },
        "outputId": "ac9c4f89-b47e-478b-e944-8025276a6630"
      },
      "source": [
        "#compile model\n",
        "tf_model.compile(optimizer='adam', loss='binary_crossentropy', metrics = ['accuracy'])\n",
        "\n",
        "# Train the model\n",
        "X_train_tf = X_train_tf.astype(np.float32)\n",
        "X_test_tf = X_test_tf.astype(np.float32)\n",
        "y_test_tf = y_test_tf.astype(np.float32)\n",
        "y_train_tf = y_train_tf.astype(np.float32)\n",
        "log_fit_tf = tf_model.fit(X_train_tf, y_train_tf, validation_data=(X_test_tf, y_test_tf), epochs=300)\n",
        "\n",
        "\n",
        "# Evaluate the model - evaluate() returns loss and accuracy\n",
        "print(\"Train score:\", tf_model.evaluate(X_train_tf, y_train_tf))\n",
        "print(\"Test score:\", tf_model.evaluate(X_test_tf, y_test_tf))"
      ],
      "execution_count": null,
      "outputs": [
        {
          "output_type": "stream",
          "text": [
            "Epoch 1/300\n",
            "6/6 [==============================] - 0s 26ms/step - loss: 1.3301 - accuracy: 0.2751 - val_loss: 1.4583 - val_accuracy: 0.1975\n",
            "Epoch 2/300\n",
            "6/6 [==============================] - 0s 5ms/step - loss: 1.3131 - accuracy: 0.2751 - val_loss: 1.4372 - val_accuracy: 0.1975\n",
            "Epoch 3/300\n",
            "6/6 [==============================] - 0s 5ms/step - loss: 1.2959 - accuracy: 0.2751 - val_loss: 1.4168 - val_accuracy: 0.1975\n",
            "Epoch 4/300\n",
            "6/6 [==============================] - 0s 6ms/step - loss: 1.2784 - accuracy: 0.2804 - val_loss: 1.3966 - val_accuracy: 0.1975\n",
            "Epoch 5/300\n",
            "6/6 [==============================] - 0s 5ms/step - loss: 1.2614 - accuracy: 0.2910 - val_loss: 1.3764 - val_accuracy: 0.2099\n",
            "Epoch 6/300\n",
            "6/6 [==============================] - 0s 5ms/step - loss: 1.2446 - accuracy: 0.2857 - val_loss: 1.3562 - val_accuracy: 0.2099\n",
            "Epoch 7/300\n",
            "6/6 [==============================] - 0s 5ms/step - loss: 1.2277 - accuracy: 0.2910 - val_loss: 1.3364 - val_accuracy: 0.2099\n",
            "Epoch 8/300\n",
            "6/6 [==============================] - 0s 6ms/step - loss: 1.2108 - accuracy: 0.2857 - val_loss: 1.3170 - val_accuracy: 0.2099\n",
            "Epoch 9/300\n",
            "6/6 [==============================] - 0s 5ms/step - loss: 1.1946 - accuracy: 0.2910 - val_loss: 1.2978 - val_accuracy: 0.2099\n",
            "Epoch 10/300\n",
            "6/6 [==============================] - 0s 5ms/step - loss: 1.1797 - accuracy: 0.3016 - val_loss: 1.2779 - val_accuracy: 0.2222\n",
            "Epoch 11/300\n",
            "6/6 [==============================] - 0s 5ms/step - loss: 1.1628 - accuracy: 0.3069 - val_loss: 1.2591 - val_accuracy: 0.2346\n",
            "Epoch 12/300\n",
            "6/6 [==============================] - 0s 5ms/step - loss: 1.1473 - accuracy: 0.3122 - val_loss: 1.2406 - val_accuracy: 0.2346\n",
            "Epoch 13/300\n",
            "6/6 [==============================] - 0s 5ms/step - loss: 1.1317 - accuracy: 0.3122 - val_loss: 1.2225 - val_accuracy: 0.2469\n",
            "Epoch 14/300\n",
            "6/6 [==============================] - 0s 6ms/step - loss: 1.1169 - accuracy: 0.3175 - val_loss: 1.2044 - val_accuracy: 0.2469\n",
            "Epoch 15/300\n",
            "6/6 [==============================] - 0s 5ms/step - loss: 1.1016 - accuracy: 0.3228 - val_loss: 1.1866 - val_accuracy: 0.2469\n",
            "Epoch 16/300\n",
            "6/6 [==============================] - 0s 5ms/step - loss: 1.0869 - accuracy: 0.3228 - val_loss: 1.1692 - val_accuracy: 0.2346\n",
            "Epoch 17/300\n",
            "6/6 [==============================] - 0s 5ms/step - loss: 1.0730 - accuracy: 0.3280 - val_loss: 1.1519 - val_accuracy: 0.2346\n",
            "Epoch 18/300\n",
            "6/6 [==============================] - 0s 6ms/step - loss: 1.0580 - accuracy: 0.3280 - val_loss: 1.1353 - val_accuracy: 0.2346\n",
            "Epoch 19/300\n",
            "6/6 [==============================] - 0s 5ms/step - loss: 1.0448 - accuracy: 0.3333 - val_loss: 1.1184 - val_accuracy: 0.2346\n",
            "Epoch 20/300\n",
            "6/6 [==============================] - 0s 5ms/step - loss: 1.0301 - accuracy: 0.3439 - val_loss: 1.1023 - val_accuracy: 0.2469\n",
            "Epoch 21/300\n",
            "6/6 [==============================] - 0s 5ms/step - loss: 1.0172 - accuracy: 0.3492 - val_loss: 1.0861 - val_accuracy: 0.2593\n",
            "Epoch 22/300\n",
            "6/6 [==============================] - 0s 6ms/step - loss: 1.0032 - accuracy: 0.3492 - val_loss: 1.0706 - val_accuracy: 0.2593\n",
            "Epoch 23/300\n",
            "6/6 [==============================] - 0s 6ms/step - loss: 0.9908 - accuracy: 0.3545 - val_loss: 1.0549 - val_accuracy: 0.2593\n",
            "Epoch 24/300\n",
            "6/6 [==============================] - 0s 6ms/step - loss: 0.9776 - accuracy: 0.3545 - val_loss: 1.0397 - val_accuracy: 0.2716\n",
            "Epoch 25/300\n",
            "6/6 [==============================] - 0s 6ms/step - loss: 0.9652 - accuracy: 0.3598 - val_loss: 1.0247 - val_accuracy: 0.2840\n",
            "Epoch 26/300\n",
            "6/6 [==============================] - 0s 6ms/step - loss: 0.9524 - accuracy: 0.3651 - val_loss: 1.0103 - val_accuracy: 0.2840\n",
            "Epoch 27/300\n",
            "6/6 [==============================] - 0s 5ms/step - loss: 0.9402 - accuracy: 0.3704 - val_loss: 0.9960 - val_accuracy: 0.2963\n",
            "Epoch 28/300\n",
            "6/6 [==============================] - 0s 5ms/step - loss: 0.9282 - accuracy: 0.3862 - val_loss: 0.9821 - val_accuracy: 0.2963\n",
            "Epoch 29/300\n",
            "6/6 [==============================] - 0s 5ms/step - loss: 0.9163 - accuracy: 0.3915 - val_loss: 0.9685 - val_accuracy: 0.3210\n",
            "Epoch 30/300\n",
            "6/6 [==============================] - 0s 5ms/step - loss: 0.9053 - accuracy: 0.3915 - val_loss: 0.9548 - val_accuracy: 0.3210\n",
            "Epoch 31/300\n",
            "6/6 [==============================] - 0s 6ms/step - loss: 0.8935 - accuracy: 0.4021 - val_loss: 0.9418 - val_accuracy: 0.3210\n",
            "Epoch 32/300\n",
            "6/6 [==============================] - 0s 5ms/step - loss: 0.8830 - accuracy: 0.4021 - val_loss: 0.9286 - val_accuracy: 0.3210\n",
            "Epoch 33/300\n",
            "6/6 [==============================] - 0s 7ms/step - loss: 0.8719 - accuracy: 0.4127 - val_loss: 0.9158 - val_accuracy: 0.3210\n",
            "Epoch 34/300\n",
            "6/6 [==============================] - 0s 6ms/step - loss: 0.8614 - accuracy: 0.4286 - val_loss: 0.9032 - val_accuracy: 0.3333\n",
            "Epoch 35/300\n",
            "6/6 [==============================] - 0s 5ms/step - loss: 0.8506 - accuracy: 0.4286 - val_loss: 0.8913 - val_accuracy: 0.3580\n",
            "Epoch 36/300\n",
            "6/6 [==============================] - 0s 5ms/step - loss: 0.8407 - accuracy: 0.4392 - val_loss: 0.8794 - val_accuracy: 0.3704\n",
            "Epoch 37/300\n",
            "6/6 [==============================] - 0s 5ms/step - loss: 0.8305 - accuracy: 0.4603 - val_loss: 0.8677 - val_accuracy: 0.3827\n",
            "Epoch 38/300\n",
            "6/6 [==============================] - 0s 5ms/step - loss: 0.8206 - accuracy: 0.4709 - val_loss: 0.8564 - val_accuracy: 0.3951\n",
            "Epoch 39/300\n",
            "6/6 [==============================] - 0s 5ms/step - loss: 0.8111 - accuracy: 0.4921 - val_loss: 0.8455 - val_accuracy: 0.3951\n",
            "Epoch 40/300\n",
            "6/6 [==============================] - 0s 5ms/step - loss: 0.8017 - accuracy: 0.4974 - val_loss: 0.8347 - val_accuracy: 0.4074\n",
            "Epoch 41/300\n",
            "6/6 [==============================] - 0s 5ms/step - loss: 0.7929 - accuracy: 0.5026 - val_loss: 0.8238 - val_accuracy: 0.4198\n",
            "Epoch 42/300\n",
            "6/6 [==============================] - 0s 6ms/step - loss: 0.7837 - accuracy: 0.5026 - val_loss: 0.8134 - val_accuracy: 0.4198\n",
            "Epoch 43/300\n",
            "6/6 [==============================] - 0s 7ms/step - loss: 0.7747 - accuracy: 0.5079 - val_loss: 0.8034 - val_accuracy: 0.4321\n",
            "Epoch 44/300\n",
            "6/6 [==============================] - 0s 5ms/step - loss: 0.7663 - accuracy: 0.5132 - val_loss: 0.7934 - val_accuracy: 0.4444\n",
            "Epoch 45/300\n",
            "6/6 [==============================] - 0s 6ms/step - loss: 0.7577 - accuracy: 0.5344 - val_loss: 0.7837 - val_accuracy: 0.4691\n",
            "Epoch 46/300\n",
            "6/6 [==============================] - 0s 5ms/step - loss: 0.7493 - accuracy: 0.5503 - val_loss: 0.7743 - val_accuracy: 0.4815\n",
            "Epoch 47/300\n",
            "6/6 [==============================] - 0s 5ms/step - loss: 0.7413 - accuracy: 0.5608 - val_loss: 0.7650 - val_accuracy: 0.4938\n",
            "Epoch 48/300\n",
            "6/6 [==============================] - 0s 6ms/step - loss: 0.7336 - accuracy: 0.5661 - val_loss: 0.7559 - val_accuracy: 0.5185\n",
            "Epoch 49/300\n",
            "6/6 [==============================] - 0s 6ms/step - loss: 0.7256 - accuracy: 0.5767 - val_loss: 0.7471 - val_accuracy: 0.5185\n",
            "Epoch 50/300\n",
            "6/6 [==============================] - 0s 5ms/step - loss: 0.7183 - accuracy: 0.5820 - val_loss: 0.7384 - val_accuracy: 0.5556\n",
            "Epoch 51/300\n",
            "6/6 [==============================] - 0s 6ms/step - loss: 0.7108 - accuracy: 0.5873 - val_loss: 0.7300 - val_accuracy: 0.5679\n",
            "Epoch 52/300\n",
            "6/6 [==============================] - 0s 5ms/step - loss: 0.7036 - accuracy: 0.5873 - val_loss: 0.7218 - val_accuracy: 0.5679\n",
            "Epoch 53/300\n",
            "6/6 [==============================] - 0s 5ms/step - loss: 0.6964 - accuracy: 0.6032 - val_loss: 0.7138 - val_accuracy: 0.5926\n",
            "Epoch 54/300\n",
            "6/6 [==============================] - 0s 5ms/step - loss: 0.6896 - accuracy: 0.5979 - val_loss: 0.7060 - val_accuracy: 0.6049\n",
            "Epoch 55/300\n",
            "6/6 [==============================] - 0s 7ms/step - loss: 0.6830 - accuracy: 0.6032 - val_loss: 0.6982 - val_accuracy: 0.6173\n",
            "Epoch 56/300\n",
            "6/6 [==============================] - 0s 5ms/step - loss: 0.6763 - accuracy: 0.6085 - val_loss: 0.6907 - val_accuracy: 0.6296\n",
            "Epoch 57/300\n",
            "6/6 [==============================] - 0s 7ms/step - loss: 0.6696 - accuracy: 0.6085 - val_loss: 0.6835 - val_accuracy: 0.6296\n",
            "Epoch 58/300\n",
            "6/6 [==============================] - 0s 6ms/step - loss: 0.6635 - accuracy: 0.6085 - val_loss: 0.6764 - val_accuracy: 0.6420\n",
            "Epoch 59/300\n",
            "6/6 [==============================] - 0s 6ms/step - loss: 0.6571 - accuracy: 0.6190 - val_loss: 0.6695 - val_accuracy: 0.6420\n",
            "Epoch 60/300\n",
            "6/6 [==============================] - 0s 6ms/step - loss: 0.6511 - accuracy: 0.6190 - val_loss: 0.6628 - val_accuracy: 0.6543\n",
            "Epoch 61/300\n",
            "6/6 [==============================] - 0s 5ms/step - loss: 0.6452 - accuracy: 0.6243 - val_loss: 0.6562 - val_accuracy: 0.6543\n",
            "Epoch 62/300\n",
            "6/6 [==============================] - 0s 6ms/step - loss: 0.6396 - accuracy: 0.6243 - val_loss: 0.6497 - val_accuracy: 0.6543\n",
            "Epoch 63/300\n",
            "6/6 [==============================] - 0s 5ms/step - loss: 0.6338 - accuracy: 0.6243 - val_loss: 0.6434 - val_accuracy: 0.6667\n",
            "Epoch 64/300\n",
            "6/6 [==============================] - 0s 5ms/step - loss: 0.6284 - accuracy: 0.6402 - val_loss: 0.6372 - val_accuracy: 0.6790\n",
            "Epoch 65/300\n",
            "6/6 [==============================] - 0s 5ms/step - loss: 0.6228 - accuracy: 0.6561 - val_loss: 0.6312 - val_accuracy: 0.6667\n",
            "Epoch 66/300\n",
            "6/6 [==============================] - 0s 6ms/step - loss: 0.6177 - accuracy: 0.6720 - val_loss: 0.6253 - val_accuracy: 0.6790\n",
            "Epoch 67/300\n",
            "6/6 [==============================] - 0s 5ms/step - loss: 0.6123 - accuracy: 0.6720 - val_loss: 0.6196 - val_accuracy: 0.7037\n",
            "Epoch 68/300\n",
            "6/6 [==============================] - 0s 8ms/step - loss: 0.6073 - accuracy: 0.6772 - val_loss: 0.6140 - val_accuracy: 0.7160\n",
            "Epoch 69/300\n",
            "6/6 [==============================] - 0s 5ms/step - loss: 0.6025 - accuracy: 0.6825 - val_loss: 0.6084 - val_accuracy: 0.7160\n",
            "Epoch 70/300\n",
            "6/6 [==============================] - 0s 7ms/step - loss: 0.5973 - accuracy: 0.6878 - val_loss: 0.6032 - val_accuracy: 0.7160\n",
            "Epoch 71/300\n",
            "6/6 [==============================] - 0s 6ms/step - loss: 0.5928 - accuracy: 0.6931 - val_loss: 0.5980 - val_accuracy: 0.7160\n",
            "Epoch 72/300\n",
            "6/6 [==============================] - 0s 6ms/step - loss: 0.5881 - accuracy: 0.6931 - val_loss: 0.5928 - val_accuracy: 0.7284\n",
            "Epoch 73/300\n",
            "6/6 [==============================] - 0s 6ms/step - loss: 0.5836 - accuracy: 0.6931 - val_loss: 0.5877 - val_accuracy: 0.7407\n",
            "Epoch 74/300\n",
            "6/6 [==============================] - 0s 6ms/step - loss: 0.5792 - accuracy: 0.7037 - val_loss: 0.5828 - val_accuracy: 0.7654\n",
            "Epoch 75/300\n",
            "6/6 [==============================] - 0s 5ms/step - loss: 0.5745 - accuracy: 0.7090 - val_loss: 0.5782 - val_accuracy: 0.7778\n",
            "Epoch 76/300\n",
            "6/6 [==============================] - 0s 5ms/step - loss: 0.5704 - accuracy: 0.7090 - val_loss: 0.5736 - val_accuracy: 0.7778\n",
            "Epoch 77/300\n",
            "6/6 [==============================] - 0s 5ms/step - loss: 0.5663 - accuracy: 0.7090 - val_loss: 0.5690 - val_accuracy: 0.7778\n",
            "Epoch 78/300\n",
            "6/6 [==============================] - 0s 6ms/step - loss: 0.5623 - accuracy: 0.7143 - val_loss: 0.5646 - val_accuracy: 0.7778\n",
            "Epoch 79/300\n",
            "6/6 [==============================] - 0s 5ms/step - loss: 0.5582 - accuracy: 0.7143 - val_loss: 0.5602 - val_accuracy: 0.7778\n",
            "Epoch 80/300\n",
            "6/6 [==============================] - 0s 6ms/step - loss: 0.5541 - accuracy: 0.7196 - val_loss: 0.5561 - val_accuracy: 0.7778\n",
            "Epoch 81/300\n",
            "6/6 [==============================] - 0s 6ms/step - loss: 0.5505 - accuracy: 0.7196 - val_loss: 0.5520 - val_accuracy: 0.7778\n",
            "Epoch 82/300\n",
            "6/6 [==============================] - 0s 6ms/step - loss: 0.5465 - accuracy: 0.7249 - val_loss: 0.5480 - val_accuracy: 0.7778\n",
            "Epoch 83/300\n",
            "6/6 [==============================] - 0s 6ms/step - loss: 0.5430 - accuracy: 0.7249 - val_loss: 0.5439 - val_accuracy: 0.7778\n",
            "Epoch 84/300\n",
            "6/6 [==============================] - 0s 6ms/step - loss: 0.5393 - accuracy: 0.7302 - val_loss: 0.5401 - val_accuracy: 0.7901\n",
            "Epoch 85/300\n",
            "6/6 [==============================] - 0s 5ms/step - loss: 0.5359 - accuracy: 0.7302 - val_loss: 0.5362 - val_accuracy: 0.7901\n",
            "Epoch 86/300\n",
            "6/6 [==============================] - 0s 6ms/step - loss: 0.5324 - accuracy: 0.7354 - val_loss: 0.5325 - val_accuracy: 0.8025\n",
            "Epoch 87/300\n",
            "6/6 [==============================] - 0s 7ms/step - loss: 0.5289 - accuracy: 0.7354 - val_loss: 0.5289 - val_accuracy: 0.8025\n",
            "Epoch 88/300\n",
            "6/6 [==============================] - 0s 5ms/step - loss: 0.5255 - accuracy: 0.7407 - val_loss: 0.5253 - val_accuracy: 0.8025\n",
            "Epoch 89/300\n",
            "6/6 [==============================] - 0s 6ms/step - loss: 0.5223 - accuracy: 0.7407 - val_loss: 0.5220 - val_accuracy: 0.8025\n",
            "Epoch 90/300\n",
            "6/6 [==============================] - 0s 6ms/step - loss: 0.5191 - accuracy: 0.7407 - val_loss: 0.5186 - val_accuracy: 0.8025\n",
            "Epoch 91/300\n",
            "6/6 [==============================] - 0s 5ms/step - loss: 0.5160 - accuracy: 0.7407 - val_loss: 0.5152 - val_accuracy: 0.8025\n",
            "Epoch 92/300\n",
            "6/6 [==============================] - 0s 5ms/step - loss: 0.5129 - accuracy: 0.7513 - val_loss: 0.5120 - val_accuracy: 0.8025\n",
            "Epoch 93/300\n",
            "6/6 [==============================] - 0s 6ms/step - loss: 0.5100 - accuracy: 0.7619 - val_loss: 0.5088 - val_accuracy: 0.8025\n",
            "Epoch 94/300\n",
            "6/6 [==============================] - 0s 5ms/step - loss: 0.5069 - accuracy: 0.7672 - val_loss: 0.5057 - val_accuracy: 0.8025\n",
            "Epoch 95/300\n",
            "6/6 [==============================] - 0s 6ms/step - loss: 0.5041 - accuracy: 0.7672 - val_loss: 0.5026 - val_accuracy: 0.8025\n",
            "Epoch 96/300\n",
            "6/6 [==============================] - 0s 6ms/step - loss: 0.5012 - accuracy: 0.7672 - val_loss: 0.4997 - val_accuracy: 0.8148\n",
            "Epoch 97/300\n",
            "6/6 [==============================] - 0s 6ms/step - loss: 0.4983 - accuracy: 0.7672 - val_loss: 0.4968 - val_accuracy: 0.8148\n",
            "Epoch 98/300\n",
            "6/6 [==============================] - 0s 7ms/step - loss: 0.4958 - accuracy: 0.7672 - val_loss: 0.4939 - val_accuracy: 0.8148\n",
            "Epoch 99/300\n",
            "6/6 [==============================] - 0s 7ms/step - loss: 0.4931 - accuracy: 0.7725 - val_loss: 0.4912 - val_accuracy: 0.8148\n",
            "Epoch 100/300\n",
            "6/6 [==============================] - 0s 5ms/step - loss: 0.4904 - accuracy: 0.7725 - val_loss: 0.4885 - val_accuracy: 0.8148\n",
            "Epoch 101/300\n",
            "6/6 [==============================] - 0s 5ms/step - loss: 0.4880 - accuracy: 0.7725 - val_loss: 0.4858 - val_accuracy: 0.8148\n",
            "Epoch 102/300\n",
            "6/6 [==============================] - 0s 5ms/step - loss: 0.4853 - accuracy: 0.7725 - val_loss: 0.4833 - val_accuracy: 0.8148\n",
            "Epoch 103/300\n",
            "6/6 [==============================] - 0s 5ms/step - loss: 0.4828 - accuracy: 0.7725 - val_loss: 0.4807 - val_accuracy: 0.8148\n",
            "Epoch 104/300\n",
            "6/6 [==============================] - 0s 5ms/step - loss: 0.4804 - accuracy: 0.7725 - val_loss: 0.4783 - val_accuracy: 0.8148\n",
            "Epoch 105/300\n",
            "6/6 [==============================] - 0s 8ms/step - loss: 0.4780 - accuracy: 0.7725 - val_loss: 0.4759 - val_accuracy: 0.8148\n",
            "Epoch 106/300\n",
            "6/6 [==============================] - 0s 6ms/step - loss: 0.4758 - accuracy: 0.7778 - val_loss: 0.4735 - val_accuracy: 0.8148\n",
            "Epoch 107/300\n",
            "6/6 [==============================] - 0s 6ms/step - loss: 0.4735 - accuracy: 0.7778 - val_loss: 0.4711 - val_accuracy: 0.8148\n",
            "Epoch 108/300\n",
            "6/6 [==============================] - 0s 6ms/step - loss: 0.4711 - accuracy: 0.7884 - val_loss: 0.4689 - val_accuracy: 0.8148\n",
            "Epoch 109/300\n",
            "6/6 [==============================] - 0s 7ms/step - loss: 0.4690 - accuracy: 0.7884 - val_loss: 0.4666 - val_accuracy: 0.8148\n",
            "Epoch 110/300\n",
            "6/6 [==============================] - 0s 6ms/step - loss: 0.4667 - accuracy: 0.7884 - val_loss: 0.4645 - val_accuracy: 0.8148\n",
            "Epoch 111/300\n",
            "6/6 [==============================] - 0s 5ms/step - loss: 0.4646 - accuracy: 0.7884 - val_loss: 0.4623 - val_accuracy: 0.8148\n",
            "Epoch 112/300\n",
            "6/6 [==============================] - 0s 5ms/step - loss: 0.4627 - accuracy: 0.7884 - val_loss: 0.4602 - val_accuracy: 0.8025\n",
            "Epoch 113/300\n",
            "6/6 [==============================] - 0s 5ms/step - loss: 0.4605 - accuracy: 0.7884 - val_loss: 0.4582 - val_accuracy: 0.8025\n",
            "Epoch 114/300\n",
            "6/6 [==============================] - 0s 6ms/step - loss: 0.4586 - accuracy: 0.7884 - val_loss: 0.4561 - val_accuracy: 0.8025\n",
            "Epoch 115/300\n",
            "6/6 [==============================] - 0s 6ms/step - loss: 0.4565 - accuracy: 0.7884 - val_loss: 0.4542 - val_accuracy: 0.8025\n",
            "Epoch 116/300\n",
            "6/6 [==============================] - 0s 6ms/step - loss: 0.4547 - accuracy: 0.7884 - val_loss: 0.4521 - val_accuracy: 0.8025\n",
            "Epoch 117/300\n",
            "6/6 [==============================] - 0s 7ms/step - loss: 0.4528 - accuracy: 0.7937 - val_loss: 0.4502 - val_accuracy: 0.8025\n",
            "Epoch 118/300\n",
            "6/6 [==============================] - 0s 6ms/step - loss: 0.4508 - accuracy: 0.7937 - val_loss: 0.4484 - val_accuracy: 0.8025\n",
            "Epoch 119/300\n",
            "6/6 [==============================] - 0s 6ms/step - loss: 0.4491 - accuracy: 0.7937 - val_loss: 0.4466 - val_accuracy: 0.8025\n",
            "Epoch 120/300\n",
            "6/6 [==============================] - 0s 6ms/step - loss: 0.4472 - accuracy: 0.7989 - val_loss: 0.4449 - val_accuracy: 0.8025\n",
            "Epoch 121/300\n",
            "6/6 [==============================] - 0s 6ms/step - loss: 0.4454 - accuracy: 0.7989 - val_loss: 0.4432 - val_accuracy: 0.8025\n",
            "Epoch 122/300\n",
            "6/6 [==============================] - 0s 6ms/step - loss: 0.4437 - accuracy: 0.8042 - val_loss: 0.4415 - val_accuracy: 0.8025\n",
            "Epoch 123/300\n",
            "6/6 [==============================] - 0s 6ms/step - loss: 0.4421 - accuracy: 0.8095 - val_loss: 0.4398 - val_accuracy: 0.8025\n",
            "Epoch 124/300\n",
            "6/6 [==============================] - 0s 6ms/step - loss: 0.4403 - accuracy: 0.8042 - val_loss: 0.4382 - val_accuracy: 0.8025\n",
            "Epoch 125/300\n",
            "6/6 [==============================] - 0s 7ms/step - loss: 0.4386 - accuracy: 0.8042 - val_loss: 0.4366 - val_accuracy: 0.8025\n",
            "Epoch 126/300\n",
            "6/6 [==============================] - 0s 6ms/step - loss: 0.4371 - accuracy: 0.8095 - val_loss: 0.4350 - val_accuracy: 0.8025\n",
            "Epoch 127/300\n",
            "6/6 [==============================] - 0s 6ms/step - loss: 0.4354 - accuracy: 0.8095 - val_loss: 0.4335 - val_accuracy: 0.8025\n",
            "Epoch 128/300\n",
            "6/6 [==============================] - 0s 7ms/step - loss: 0.4339 - accuracy: 0.8095 - val_loss: 0.4320 - val_accuracy: 0.8025\n",
            "Epoch 129/300\n",
            "6/6 [==============================] - 0s 7ms/step - loss: 0.4324 - accuracy: 0.8095 - val_loss: 0.4305 - val_accuracy: 0.8025\n",
            "Epoch 130/300\n",
            "6/6 [==============================] - 0s 5ms/step - loss: 0.4308 - accuracy: 0.8148 - val_loss: 0.4291 - val_accuracy: 0.8025\n",
            "Epoch 131/300\n",
            "6/6 [==============================] - 0s 5ms/step - loss: 0.4293 - accuracy: 0.8148 - val_loss: 0.4277 - val_accuracy: 0.8025\n",
            "Epoch 132/300\n",
            "6/6 [==============================] - 0s 5ms/step - loss: 0.4279 - accuracy: 0.8148 - val_loss: 0.4263 - val_accuracy: 0.8025\n",
            "Epoch 133/300\n",
            "6/6 [==============================] - 0s 7ms/step - loss: 0.4264 - accuracy: 0.8201 - val_loss: 0.4250 - val_accuracy: 0.8025\n",
            "Epoch 134/300\n",
            "6/6 [==============================] - 0s 6ms/step - loss: 0.4252 - accuracy: 0.8254 - val_loss: 0.4236 - val_accuracy: 0.7901\n",
            "Epoch 135/300\n",
            "6/6 [==============================] - 0s 6ms/step - loss: 0.4237 - accuracy: 0.8254 - val_loss: 0.4222 - val_accuracy: 0.7901\n",
            "Epoch 136/300\n",
            "6/6 [==============================] - 0s 6ms/step - loss: 0.4222 - accuracy: 0.8254 - val_loss: 0.4210 - val_accuracy: 0.7901\n",
            "Epoch 137/300\n",
            "6/6 [==============================] - 0s 9ms/step - loss: 0.4210 - accuracy: 0.8254 - val_loss: 0.4197 - val_accuracy: 0.7901\n",
            "Epoch 138/300\n",
            "6/6 [==============================] - 0s 6ms/step - loss: 0.4197 - accuracy: 0.8254 - val_loss: 0.4186 - val_accuracy: 0.7901\n",
            "Epoch 139/300\n",
            "6/6 [==============================] - 0s 6ms/step - loss: 0.4184 - accuracy: 0.8254 - val_loss: 0.4174 - val_accuracy: 0.7901\n",
            "Epoch 140/300\n",
            "6/6 [==============================] - 0s 6ms/step - loss: 0.4170 - accuracy: 0.8307 - val_loss: 0.4162 - val_accuracy: 0.7901\n",
            "Epoch 141/300\n",
            "6/6 [==============================] - 0s 6ms/step - loss: 0.4159 - accuracy: 0.8307 - val_loss: 0.4150 - val_accuracy: 0.7901\n",
            "Epoch 142/300\n",
            "6/6 [==============================] - 0s 7ms/step - loss: 0.4146 - accuracy: 0.8360 - val_loss: 0.4139 - val_accuracy: 0.8025\n",
            "Epoch 143/300\n",
            "6/6 [==============================] - 0s 6ms/step - loss: 0.4134 - accuracy: 0.8360 - val_loss: 0.4128 - val_accuracy: 0.8025\n",
            "Epoch 144/300\n",
            "6/6 [==============================] - 0s 5ms/step - loss: 0.4123 - accuracy: 0.8360 - val_loss: 0.4116 - val_accuracy: 0.8025\n",
            "Epoch 145/300\n",
            "6/6 [==============================] - 0s 5ms/step - loss: 0.4110 - accuracy: 0.8360 - val_loss: 0.4106 - val_accuracy: 0.8025\n",
            "Epoch 146/300\n",
            "6/6 [==============================] - 0s 6ms/step - loss: 0.4098 - accuracy: 0.8360 - val_loss: 0.4096 - val_accuracy: 0.8025\n",
            "Epoch 147/300\n",
            "6/6 [==============================] - 0s 5ms/step - loss: 0.4087 - accuracy: 0.8360 - val_loss: 0.4086 - val_accuracy: 0.8148\n",
            "Epoch 148/300\n",
            "6/6 [==============================] - 0s 5ms/step - loss: 0.4077 - accuracy: 0.8360 - val_loss: 0.4075 - val_accuracy: 0.8148\n",
            "Epoch 149/300\n",
            "6/6 [==============================] - 0s 5ms/step - loss: 0.4066 - accuracy: 0.8413 - val_loss: 0.4065 - val_accuracy: 0.8148\n",
            "Epoch 150/300\n",
            "6/6 [==============================] - 0s 7ms/step - loss: 0.4055 - accuracy: 0.8413 - val_loss: 0.4056 - val_accuracy: 0.8148\n",
            "Epoch 151/300\n",
            "6/6 [==============================] - 0s 5ms/step - loss: 0.4044 - accuracy: 0.8413 - val_loss: 0.4046 - val_accuracy: 0.8148\n",
            "Epoch 152/300\n",
            "6/6 [==============================] - 0s 7ms/step - loss: 0.4033 - accuracy: 0.8466 - val_loss: 0.4037 - val_accuracy: 0.8272\n",
            "Epoch 153/300\n",
            "6/6 [==============================] - 0s 6ms/step - loss: 0.4023 - accuracy: 0.8466 - val_loss: 0.4028 - val_accuracy: 0.8272\n",
            "Epoch 154/300\n",
            "6/6 [==============================] - 0s 6ms/step - loss: 0.4013 - accuracy: 0.8466 - val_loss: 0.4019 - val_accuracy: 0.8272\n",
            "Epoch 155/300\n",
            "6/6 [==============================] - 0s 5ms/step - loss: 0.4003 - accuracy: 0.8519 - val_loss: 0.4010 - val_accuracy: 0.8272\n",
            "Epoch 156/300\n",
            "6/6 [==============================] - 0s 5ms/step - loss: 0.3994 - accuracy: 0.8519 - val_loss: 0.4002 - val_accuracy: 0.8272\n",
            "Epoch 157/300\n",
            "6/6 [==============================] - 0s 6ms/step - loss: 0.3983 - accuracy: 0.8519 - val_loss: 0.3994 - val_accuracy: 0.8272\n",
            "Epoch 158/300\n",
            "6/6 [==============================] - 0s 7ms/step - loss: 0.3974 - accuracy: 0.8519 - val_loss: 0.3985 - val_accuracy: 0.8272\n",
            "Epoch 159/300\n",
            "6/6 [==============================] - 0s 6ms/step - loss: 0.3965 - accuracy: 0.8519 - val_loss: 0.3977 - val_accuracy: 0.8395\n",
            "Epoch 160/300\n",
            "6/6 [==============================] - 0s 5ms/step - loss: 0.3955 - accuracy: 0.8519 - val_loss: 0.3969 - val_accuracy: 0.8395\n",
            "Epoch 161/300\n",
            "6/6 [==============================] - 0s 5ms/step - loss: 0.3946 - accuracy: 0.8519 - val_loss: 0.3962 - val_accuracy: 0.8395\n",
            "Epoch 162/300\n",
            "6/6 [==============================] - 0s 6ms/step - loss: 0.3938 - accuracy: 0.8519 - val_loss: 0.3954 - val_accuracy: 0.8395\n",
            "Epoch 163/300\n",
            "6/6 [==============================] - 0s 6ms/step - loss: 0.3929 - accuracy: 0.8519 - val_loss: 0.3946 - val_accuracy: 0.8395\n",
            "Epoch 164/300\n",
            "6/6 [==============================] - 0s 5ms/step - loss: 0.3921 - accuracy: 0.8519 - val_loss: 0.3939 - val_accuracy: 0.8395\n",
            "Epoch 165/300\n",
            "6/6 [==============================] - 0s 7ms/step - loss: 0.3912 - accuracy: 0.8519 - val_loss: 0.3932 - val_accuracy: 0.8395\n",
            "Epoch 166/300\n",
            "6/6 [==============================] - 0s 7ms/step - loss: 0.3903 - accuracy: 0.8519 - val_loss: 0.3925 - val_accuracy: 0.8395\n",
            "Epoch 167/300\n",
            "6/6 [==============================] - 0s 7ms/step - loss: 0.3895 - accuracy: 0.8519 - val_loss: 0.3918 - val_accuracy: 0.8395\n",
            "Epoch 168/300\n",
            "6/6 [==============================] - 0s 6ms/step - loss: 0.3887 - accuracy: 0.8519 - val_loss: 0.3911 - val_accuracy: 0.8395\n",
            "Epoch 169/300\n",
            "6/6 [==============================] - 0s 7ms/step - loss: 0.3879 - accuracy: 0.8519 - val_loss: 0.3905 - val_accuracy: 0.8395\n",
            "Epoch 170/300\n",
            "6/6 [==============================] - 0s 5ms/step - loss: 0.3871 - accuracy: 0.8519 - val_loss: 0.3898 - val_accuracy: 0.8395\n",
            "Epoch 171/300\n",
            "6/6 [==============================] - 0s 6ms/step - loss: 0.3864 - accuracy: 0.8519 - val_loss: 0.3892 - val_accuracy: 0.8395\n",
            "Epoch 172/300\n",
            "6/6 [==============================] - 0s 7ms/step - loss: 0.3855 - accuracy: 0.8519 - val_loss: 0.3885 - val_accuracy: 0.8395\n",
            "Epoch 173/300\n",
            "6/6 [==============================] - 0s 6ms/step - loss: 0.3848 - accuracy: 0.8519 - val_loss: 0.3880 - val_accuracy: 0.8395\n",
            "Epoch 174/300\n",
            "6/6 [==============================] - 0s 6ms/step - loss: 0.3840 - accuracy: 0.8519 - val_loss: 0.3874 - val_accuracy: 0.8395\n",
            "Epoch 175/300\n",
            "6/6 [==============================] - 0s 5ms/step - loss: 0.3833 - accuracy: 0.8519 - val_loss: 0.3867 - val_accuracy: 0.8395\n",
            "Epoch 176/300\n",
            "6/6 [==============================] - 0s 6ms/step - loss: 0.3825 - accuracy: 0.8519 - val_loss: 0.3861 - val_accuracy: 0.8395\n",
            "Epoch 177/300\n",
            "6/6 [==============================] - 0s 6ms/step - loss: 0.3819 - accuracy: 0.8519 - val_loss: 0.3856 - val_accuracy: 0.8395\n",
            "Epoch 178/300\n",
            "6/6 [==============================] - 0s 7ms/step - loss: 0.3811 - accuracy: 0.8519 - val_loss: 0.3850 - val_accuracy: 0.8395\n",
            "Epoch 179/300\n",
            "6/6 [==============================] - 0s 6ms/step - loss: 0.3805 - accuracy: 0.8571 - val_loss: 0.3846 - val_accuracy: 0.8395\n",
            "Epoch 180/300\n",
            "6/6 [==============================] - 0s 6ms/step - loss: 0.3798 - accuracy: 0.8571 - val_loss: 0.3841 - val_accuracy: 0.8395\n",
            "Epoch 181/300\n",
            "6/6 [==============================] - 0s 7ms/step - loss: 0.3791 - accuracy: 0.8571 - val_loss: 0.3835 - val_accuracy: 0.8519\n",
            "Epoch 182/300\n",
            "6/6 [==============================] - 0s 5ms/step - loss: 0.3785 - accuracy: 0.8571 - val_loss: 0.3830 - val_accuracy: 0.8519\n",
            "Epoch 183/300\n",
            "6/6 [==============================] - 0s 5ms/step - loss: 0.3777 - accuracy: 0.8571 - val_loss: 0.3825 - val_accuracy: 0.8519\n",
            "Epoch 184/300\n",
            "6/6 [==============================] - 0s 5ms/step - loss: 0.3772 - accuracy: 0.8571 - val_loss: 0.3820 - val_accuracy: 0.8519\n",
            "Epoch 185/300\n",
            "6/6 [==============================] - 0s 6ms/step - loss: 0.3765 - accuracy: 0.8571 - val_loss: 0.3815 - val_accuracy: 0.8519\n",
            "Epoch 186/300\n",
            "6/6 [==============================] - 0s 6ms/step - loss: 0.3758 - accuracy: 0.8571 - val_loss: 0.3810 - val_accuracy: 0.8519\n",
            "Epoch 187/300\n",
            "6/6 [==============================] - 0s 5ms/step - loss: 0.3752 - accuracy: 0.8571 - val_loss: 0.3806 - val_accuracy: 0.8519\n",
            "Epoch 188/300\n",
            "6/6 [==============================] - 0s 5ms/step - loss: 0.3746 - accuracy: 0.8571 - val_loss: 0.3802 - val_accuracy: 0.8519\n",
            "Epoch 189/300\n",
            "6/6 [==============================] - 0s 5ms/step - loss: 0.3740 - accuracy: 0.8571 - val_loss: 0.3797 - val_accuracy: 0.8519\n",
            "Epoch 190/300\n",
            "6/6 [==============================] - 0s 5ms/step - loss: 0.3735 - accuracy: 0.8571 - val_loss: 0.3792 - val_accuracy: 0.8519\n",
            "Epoch 191/300\n",
            "6/6 [==============================] - 0s 6ms/step - loss: 0.3729 - accuracy: 0.8571 - val_loss: 0.3788 - val_accuracy: 0.8519\n",
            "Epoch 192/300\n",
            "6/6 [==============================] - 0s 6ms/step - loss: 0.3723 - accuracy: 0.8624 - val_loss: 0.3784 - val_accuracy: 0.8519\n",
            "Epoch 193/300\n",
            "6/6 [==============================] - 0s 6ms/step - loss: 0.3717 - accuracy: 0.8624 - val_loss: 0.3780 - val_accuracy: 0.8519\n",
            "Epoch 194/300\n",
            "6/6 [==============================] - 0s 6ms/step - loss: 0.3712 - accuracy: 0.8624 - val_loss: 0.3775 - val_accuracy: 0.8519\n",
            "Epoch 195/300\n",
            "6/6 [==============================] - 0s 10ms/step - loss: 0.3706 - accuracy: 0.8624 - val_loss: 0.3771 - val_accuracy: 0.8519\n",
            "Epoch 196/300\n",
            "6/6 [==============================] - 0s 6ms/step - loss: 0.3700 - accuracy: 0.8624 - val_loss: 0.3768 - val_accuracy: 0.8519\n",
            "Epoch 197/300\n",
            "6/6 [==============================] - 0s 6ms/step - loss: 0.3696 - accuracy: 0.8624 - val_loss: 0.3764 - val_accuracy: 0.8519\n",
            "Epoch 198/300\n",
            "6/6 [==============================] - 0s 7ms/step - loss: 0.3690 - accuracy: 0.8624 - val_loss: 0.3760 - val_accuracy: 0.8519\n",
            "Epoch 199/300\n",
            "6/6 [==============================] - 0s 7ms/step - loss: 0.3685 - accuracy: 0.8624 - val_loss: 0.3757 - val_accuracy: 0.8519\n",
            "Epoch 200/300\n",
            "6/6 [==============================] - 0s 10ms/step - loss: 0.3679 - accuracy: 0.8571 - val_loss: 0.3753 - val_accuracy: 0.8519\n",
            "Epoch 201/300\n",
            "6/6 [==============================] - 0s 5ms/step - loss: 0.3674 - accuracy: 0.8571 - val_loss: 0.3750 - val_accuracy: 0.8519\n",
            "Epoch 202/300\n",
            "6/6 [==============================] - 0s 6ms/step - loss: 0.3669 - accuracy: 0.8571 - val_loss: 0.3746 - val_accuracy: 0.8519\n",
            "Epoch 203/300\n",
            "6/6 [==============================] - 0s 5ms/step - loss: 0.3665 - accuracy: 0.8571 - val_loss: 0.3743 - val_accuracy: 0.8519\n",
            "Epoch 204/300\n",
            "6/6 [==============================] - 0s 6ms/step - loss: 0.3659 - accuracy: 0.8571 - val_loss: 0.3740 - val_accuracy: 0.8519\n",
            "Epoch 205/300\n",
            "6/6 [==============================] - 0s 6ms/step - loss: 0.3655 - accuracy: 0.8571 - val_loss: 0.3737 - val_accuracy: 0.8519\n",
            "Epoch 206/300\n",
            "6/6 [==============================] - 0s 6ms/step - loss: 0.3650 - accuracy: 0.8571 - val_loss: 0.3734 - val_accuracy: 0.8519\n",
            "Epoch 207/300\n",
            "6/6 [==============================] - 0s 5ms/step - loss: 0.3645 - accuracy: 0.8571 - val_loss: 0.3731 - val_accuracy: 0.8519\n",
            "Epoch 208/300\n",
            "6/6 [==============================] - 0s 5ms/step - loss: 0.3641 - accuracy: 0.8571 - val_loss: 0.3727 - val_accuracy: 0.8519\n",
            "Epoch 209/300\n",
            "6/6 [==============================] - 0s 7ms/step - loss: 0.3636 - accuracy: 0.8571 - val_loss: 0.3725 - val_accuracy: 0.8519\n",
            "Epoch 210/300\n",
            "6/6 [==============================] - 0s 5ms/step - loss: 0.3631 - accuracy: 0.8571 - val_loss: 0.3722 - val_accuracy: 0.8519\n",
            "Epoch 211/300\n",
            "6/6 [==============================] - 0s 6ms/step - loss: 0.3627 - accuracy: 0.8571 - val_loss: 0.3719 - val_accuracy: 0.8519\n",
            "Epoch 212/300\n",
            "6/6 [==============================] - 0s 8ms/step - loss: 0.3622 - accuracy: 0.8624 - val_loss: 0.3716 - val_accuracy: 0.8519\n",
            "Epoch 213/300\n",
            "6/6 [==============================] - 0s 6ms/step - loss: 0.3618 - accuracy: 0.8624 - val_loss: 0.3713 - val_accuracy: 0.8519\n",
            "Epoch 214/300\n",
            "6/6 [==============================] - 0s 5ms/step - loss: 0.3614 - accuracy: 0.8624 - val_loss: 0.3711 - val_accuracy: 0.8519\n",
            "Epoch 215/300\n",
            "6/6 [==============================] - 0s 6ms/step - loss: 0.3609 - accuracy: 0.8571 - val_loss: 0.3709 - val_accuracy: 0.8519\n",
            "Epoch 216/300\n",
            "6/6 [==============================] - 0s 6ms/step - loss: 0.3606 - accuracy: 0.8571 - val_loss: 0.3706 - val_accuracy: 0.8519\n",
            "Epoch 217/300\n",
            "6/6 [==============================] - 0s 6ms/step - loss: 0.3601 - accuracy: 0.8571 - val_loss: 0.3704 - val_accuracy: 0.8519\n",
            "Epoch 218/300\n",
            "6/6 [==============================] - 0s 5ms/step - loss: 0.3597 - accuracy: 0.8571 - val_loss: 0.3701 - val_accuracy: 0.8519\n",
            "Epoch 219/300\n",
            "6/6 [==============================] - 0s 6ms/step - loss: 0.3593 - accuracy: 0.8571 - val_loss: 0.3698 - val_accuracy: 0.8519\n",
            "Epoch 220/300\n",
            "6/6 [==============================] - 0s 7ms/step - loss: 0.3590 - accuracy: 0.8571 - val_loss: 0.3696 - val_accuracy: 0.8519\n",
            "Epoch 221/300\n",
            "6/6 [==============================] - 0s 6ms/step - loss: 0.3585 - accuracy: 0.8571 - val_loss: 0.3694 - val_accuracy: 0.8519\n",
            "Epoch 222/300\n",
            "6/6 [==============================] - 0s 6ms/step - loss: 0.3581 - accuracy: 0.8571 - val_loss: 0.3692 - val_accuracy: 0.8519\n",
            "Epoch 223/300\n",
            "6/6 [==============================] - 0s 6ms/step - loss: 0.3578 - accuracy: 0.8571 - val_loss: 0.3690 - val_accuracy: 0.8519\n",
            "Epoch 224/300\n",
            "6/6 [==============================] - 0s 7ms/step - loss: 0.3574 - accuracy: 0.8571 - val_loss: 0.3688 - val_accuracy: 0.8519\n",
            "Epoch 225/300\n",
            "6/6 [==============================] - 0s 7ms/step - loss: 0.3570 - accuracy: 0.8571 - val_loss: 0.3686 - val_accuracy: 0.8519\n",
            "Epoch 226/300\n",
            "6/6 [==============================] - 0s 5ms/step - loss: 0.3567 - accuracy: 0.8571 - val_loss: 0.3684 - val_accuracy: 0.8519\n",
            "Epoch 227/300\n",
            "6/6 [==============================] - 0s 5ms/step - loss: 0.3563 - accuracy: 0.8571 - val_loss: 0.3682 - val_accuracy: 0.8519\n",
            "Epoch 228/300\n",
            "6/6 [==============================] - 0s 6ms/step - loss: 0.3559 - accuracy: 0.8571 - val_loss: 0.3680 - val_accuracy: 0.8519\n",
            "Epoch 229/300\n",
            "6/6 [==============================] - 0s 5ms/step - loss: 0.3556 - accuracy: 0.8571 - val_loss: 0.3678 - val_accuracy: 0.8519\n",
            "Epoch 230/300\n",
            "6/6 [==============================] - 0s 6ms/step - loss: 0.3552 - accuracy: 0.8571 - val_loss: 0.3676 - val_accuracy: 0.8519\n",
            "Epoch 231/300\n",
            "6/6 [==============================] - 0s 6ms/step - loss: 0.3549 - accuracy: 0.8571 - val_loss: 0.3675 - val_accuracy: 0.8519\n",
            "Epoch 232/300\n",
            "6/6 [==============================] - 0s 6ms/step - loss: 0.3546 - accuracy: 0.8571 - val_loss: 0.3673 - val_accuracy: 0.8519\n",
            "Epoch 233/300\n",
            "6/6 [==============================] - 0s 6ms/step - loss: 0.3542 - accuracy: 0.8571 - val_loss: 0.3672 - val_accuracy: 0.8519\n",
            "Epoch 234/300\n",
            "6/6 [==============================] - 0s 7ms/step - loss: 0.3539 - accuracy: 0.8571 - val_loss: 0.3671 - val_accuracy: 0.8519\n",
            "Epoch 235/300\n",
            "6/6 [==============================] - 0s 6ms/step - loss: 0.3536 - accuracy: 0.8571 - val_loss: 0.3669 - val_accuracy: 0.8519\n",
            "Epoch 236/300\n",
            "6/6 [==============================] - 0s 6ms/step - loss: 0.3532 - accuracy: 0.8571 - val_loss: 0.3667 - val_accuracy: 0.8519\n",
            "Epoch 237/300\n",
            "6/6 [==============================] - 0s 6ms/step - loss: 0.3529 - accuracy: 0.8571 - val_loss: 0.3666 - val_accuracy: 0.8519\n",
            "Epoch 238/300\n",
            "6/6 [==============================] - 0s 6ms/step - loss: 0.3526 - accuracy: 0.8571 - val_loss: 0.3663 - val_accuracy: 0.8519\n",
            "Epoch 239/300\n",
            "6/6 [==============================] - 0s 5ms/step - loss: 0.3523 - accuracy: 0.8571 - val_loss: 0.3662 - val_accuracy: 0.8519\n",
            "Epoch 240/300\n",
            "6/6 [==============================] - 0s 5ms/step - loss: 0.3520 - accuracy: 0.8571 - val_loss: 0.3661 - val_accuracy: 0.8519\n",
            "Epoch 241/300\n",
            "6/6 [==============================] - 0s 5ms/step - loss: 0.3517 - accuracy: 0.8571 - val_loss: 0.3660 - val_accuracy: 0.8519\n",
            "Epoch 242/300\n",
            "6/6 [==============================] - 0s 7ms/step - loss: 0.3514 - accuracy: 0.8571 - val_loss: 0.3659 - val_accuracy: 0.8519\n",
            "Epoch 243/300\n",
            "6/6 [==============================] - 0s 6ms/step - loss: 0.3511 - accuracy: 0.8571 - val_loss: 0.3657 - val_accuracy: 0.8395\n",
            "Epoch 244/300\n",
            "6/6 [==============================] - 0s 6ms/step - loss: 0.3508 - accuracy: 0.8571 - val_loss: 0.3656 - val_accuracy: 0.8395\n",
            "Epoch 245/300\n",
            "6/6 [==============================] - 0s 6ms/step - loss: 0.3505 - accuracy: 0.8571 - val_loss: 0.3655 - val_accuracy: 0.8395\n",
            "Epoch 246/300\n",
            "6/6 [==============================] - 0s 7ms/step - loss: 0.3502 - accuracy: 0.8571 - val_loss: 0.3654 - val_accuracy: 0.8395\n",
            "Epoch 247/300\n",
            "6/6 [==============================] - 0s 8ms/step - loss: 0.3500 - accuracy: 0.8571 - val_loss: 0.3654 - val_accuracy: 0.8395\n",
            "Epoch 248/300\n",
            "6/6 [==============================] - 0s 6ms/step - loss: 0.3496 - accuracy: 0.8571 - val_loss: 0.3653 - val_accuracy: 0.8395\n",
            "Epoch 249/300\n",
            "6/6 [==============================] - 0s 8ms/step - loss: 0.3493 - accuracy: 0.8571 - val_loss: 0.3651 - val_accuracy: 0.8395\n",
            "Epoch 250/300\n",
            "6/6 [==============================] - 0s 6ms/step - loss: 0.3490 - accuracy: 0.8571 - val_loss: 0.3650 - val_accuracy: 0.8395\n",
            "Epoch 251/300\n",
            "6/6 [==============================] - 0s 7ms/step - loss: 0.3488 - accuracy: 0.8571 - val_loss: 0.3649 - val_accuracy: 0.8395\n",
            "Epoch 252/300\n",
            "6/6 [==============================] - 0s 6ms/step - loss: 0.3485 - accuracy: 0.8571 - val_loss: 0.3647 - val_accuracy: 0.8395\n",
            "Epoch 253/300\n",
            "6/6 [==============================] - 0s 5ms/step - loss: 0.3483 - accuracy: 0.8571 - val_loss: 0.3646 - val_accuracy: 0.8395\n",
            "Epoch 254/300\n",
            "6/6 [==============================] - 0s 6ms/step - loss: 0.3481 - accuracy: 0.8571 - val_loss: 0.3646 - val_accuracy: 0.8395\n",
            "Epoch 255/300\n",
            "6/6 [==============================] - 0s 6ms/step - loss: 0.3477 - accuracy: 0.8571 - val_loss: 0.3645 - val_accuracy: 0.8395\n",
            "Epoch 256/300\n",
            "6/6 [==============================] - 0s 6ms/step - loss: 0.3475 - accuracy: 0.8624 - val_loss: 0.3645 - val_accuracy: 0.8395\n",
            "Epoch 257/300\n",
            "6/6 [==============================] - 0s 6ms/step - loss: 0.3473 - accuracy: 0.8624 - val_loss: 0.3644 - val_accuracy: 0.8395\n",
            "Epoch 258/300\n",
            "6/6 [==============================] - 0s 6ms/step - loss: 0.3470 - accuracy: 0.8677 - val_loss: 0.3642 - val_accuracy: 0.8395\n",
            "Epoch 259/300\n",
            "6/6 [==============================] - 0s 6ms/step - loss: 0.3467 - accuracy: 0.8677 - val_loss: 0.3642 - val_accuracy: 0.8395\n",
            "Epoch 260/300\n",
            "6/6 [==============================] - 0s 7ms/step - loss: 0.3465 - accuracy: 0.8677 - val_loss: 0.3641 - val_accuracy: 0.8395\n",
            "Epoch 261/300\n",
            "6/6 [==============================] - 0s 6ms/step - loss: 0.3463 - accuracy: 0.8677 - val_loss: 0.3640 - val_accuracy: 0.8395\n",
            "Epoch 262/300\n",
            "6/6 [==============================] - 0s 6ms/step - loss: 0.3460 - accuracy: 0.8677 - val_loss: 0.3640 - val_accuracy: 0.8395\n",
            "Epoch 263/300\n",
            "6/6 [==============================] - 0s 6ms/step - loss: 0.3458 - accuracy: 0.8677 - val_loss: 0.3639 - val_accuracy: 0.8395\n",
            "Epoch 264/300\n",
            "6/6 [==============================] - 0s 5ms/step - loss: 0.3455 - accuracy: 0.8677 - val_loss: 0.3639 - val_accuracy: 0.8395\n",
            "Epoch 265/300\n",
            "6/6 [==============================] - 0s 6ms/step - loss: 0.3453 - accuracy: 0.8677 - val_loss: 0.3638 - val_accuracy: 0.8395\n",
            "Epoch 266/300\n",
            "6/6 [==============================] - 0s 6ms/step - loss: 0.3452 - accuracy: 0.8677 - val_loss: 0.3637 - val_accuracy: 0.8395\n",
            "Epoch 267/300\n",
            "6/6 [==============================] - 0s 7ms/step - loss: 0.3449 - accuracy: 0.8677 - val_loss: 0.3636 - val_accuracy: 0.8395\n",
            "Epoch 268/300\n",
            "6/6 [==============================] - 0s 6ms/step - loss: 0.3447 - accuracy: 0.8677 - val_loss: 0.3635 - val_accuracy: 0.8395\n",
            "Epoch 269/300\n",
            "6/6 [==============================] - 0s 6ms/step - loss: 0.3444 - accuracy: 0.8677 - val_loss: 0.3635 - val_accuracy: 0.8395\n",
            "Epoch 270/300\n",
            "6/6 [==============================] - 0s 6ms/step - loss: 0.3442 - accuracy: 0.8677 - val_loss: 0.3635 - val_accuracy: 0.8395\n",
            "Epoch 271/300\n",
            "6/6 [==============================] - 0s 6ms/step - loss: 0.3440 - accuracy: 0.8677 - val_loss: 0.3634 - val_accuracy: 0.8395\n",
            "Epoch 272/300\n",
            "6/6 [==============================] - 0s 6ms/step - loss: 0.3438 - accuracy: 0.8677 - val_loss: 0.3634 - val_accuracy: 0.8395\n",
            "Epoch 273/300\n",
            "6/6 [==============================] - 0s 8ms/step - loss: 0.3436 - accuracy: 0.8677 - val_loss: 0.3633 - val_accuracy: 0.8395\n",
            "Epoch 274/300\n",
            "6/6 [==============================] - 0s 6ms/step - loss: 0.3434 - accuracy: 0.8677 - val_loss: 0.3632 - val_accuracy: 0.8395\n",
            "Epoch 275/300\n",
            "6/6 [==============================] - 0s 6ms/step - loss: 0.3432 - accuracy: 0.8677 - val_loss: 0.3632 - val_accuracy: 0.8395\n",
            "Epoch 276/300\n",
            "6/6 [==============================] - 0s 6ms/step - loss: 0.3430 - accuracy: 0.8677 - val_loss: 0.3632 - val_accuracy: 0.8395\n",
            "Epoch 277/300\n",
            "6/6 [==============================] - 0s 7ms/step - loss: 0.3428 - accuracy: 0.8677 - val_loss: 0.3632 - val_accuracy: 0.8395\n",
            "Epoch 278/300\n",
            "6/6 [==============================] - 0s 6ms/step - loss: 0.3426 - accuracy: 0.8677 - val_loss: 0.3632 - val_accuracy: 0.8395\n",
            "Epoch 279/300\n",
            "6/6 [==============================] - 0s 6ms/step - loss: 0.3424 - accuracy: 0.8677 - val_loss: 0.3632 - val_accuracy: 0.8395\n",
            "Epoch 280/300\n",
            "6/6 [==============================] - 0s 7ms/step - loss: 0.3422 - accuracy: 0.8677 - val_loss: 0.3632 - val_accuracy: 0.8519\n",
            "Epoch 281/300\n",
            "6/6 [==============================] - 0s 6ms/step - loss: 0.3420 - accuracy: 0.8677 - val_loss: 0.3632 - val_accuracy: 0.8519\n",
            "Epoch 282/300\n",
            "6/6 [==============================] - 0s 5ms/step - loss: 0.3418 - accuracy: 0.8677 - val_loss: 0.3631 - val_accuracy: 0.8519\n",
            "Epoch 283/300\n",
            "6/6 [==============================] - 0s 5ms/step - loss: 0.3417 - accuracy: 0.8677 - val_loss: 0.3631 - val_accuracy: 0.8519\n",
            "Epoch 284/300\n",
            "6/6 [==============================] - 0s 7ms/step - loss: 0.3414 - accuracy: 0.8677 - val_loss: 0.3631 - val_accuracy: 0.8519\n",
            "Epoch 285/300\n",
            "6/6 [==============================] - 0s 6ms/step - loss: 0.3412 - accuracy: 0.8677 - val_loss: 0.3631 - val_accuracy: 0.8519\n",
            "Epoch 286/300\n",
            "6/6 [==============================] - 0s 7ms/step - loss: 0.3411 - accuracy: 0.8677 - val_loss: 0.3630 - val_accuracy: 0.8519\n",
            "Epoch 287/300\n",
            "6/6 [==============================] - 0s 6ms/step - loss: 0.3409 - accuracy: 0.8677 - val_loss: 0.3630 - val_accuracy: 0.8519\n",
            "Epoch 288/300\n",
            "6/6 [==============================] - 0s 6ms/step - loss: 0.3407 - accuracy: 0.8624 - val_loss: 0.3630 - val_accuracy: 0.8519\n",
            "Epoch 289/300\n",
            "6/6 [==============================] - 0s 7ms/step - loss: 0.3406 - accuracy: 0.8624 - val_loss: 0.3630 - val_accuracy: 0.8519\n",
            "Epoch 290/300\n",
            "6/6 [==============================] - 0s 6ms/step - loss: 0.3404 - accuracy: 0.8624 - val_loss: 0.3630 - val_accuracy: 0.8519\n",
            "Epoch 291/300\n",
            "6/6 [==============================] - 0s 7ms/step - loss: 0.3402 - accuracy: 0.8624 - val_loss: 0.3630 - val_accuracy: 0.8519\n",
            "Epoch 292/300\n",
            "6/6 [==============================] - 0s 7ms/step - loss: 0.3400 - accuracy: 0.8624 - val_loss: 0.3630 - val_accuracy: 0.8519\n",
            "Epoch 293/300\n",
            "6/6 [==============================] - 0s 7ms/step - loss: 0.3399 - accuracy: 0.8624 - val_loss: 0.3630 - val_accuracy: 0.8519\n",
            "Epoch 294/300\n",
            "6/6 [==============================] - 0s 6ms/step - loss: 0.3397 - accuracy: 0.8624 - val_loss: 0.3630 - val_accuracy: 0.8519\n",
            "Epoch 295/300\n",
            "6/6 [==============================] - 0s 7ms/step - loss: 0.3395 - accuracy: 0.8624 - val_loss: 0.3630 - val_accuracy: 0.8519\n",
            "Epoch 296/300\n",
            "6/6 [==============================] - 0s 5ms/step - loss: 0.3394 - accuracy: 0.8624 - val_loss: 0.3630 - val_accuracy: 0.8519\n",
            "Epoch 297/300\n",
            "6/6 [==============================] - 0s 6ms/step - loss: 0.3392 - accuracy: 0.8624 - val_loss: 0.3629 - val_accuracy: 0.8519\n",
            "Epoch 298/300\n",
            "6/6 [==============================] - 0s 8ms/step - loss: 0.3390 - accuracy: 0.8624 - val_loss: 0.3630 - val_accuracy: 0.8519\n",
            "Epoch 299/300\n",
            "6/6 [==============================] - 0s 7ms/step - loss: 0.3389 - accuracy: 0.8624 - val_loss: 0.3629 - val_accuracy: 0.8519\n",
            "Epoch 300/300\n",
            "6/6 [==============================] - 0s 5ms/step - loss: 0.3387 - accuracy: 0.8624 - val_loss: 0.3630 - val_accuracy: 0.8519\n",
            "6/6 [==============================] - 0s 3ms/step - loss: 0.3386 - accuracy: 0.8624\n",
            "Train score: [0.3386075794696808, 0.8624338507652283]\n",
            "3/3 [==============================] - 0s 5ms/step - loss: 0.3630 - accuracy: 0.8519\n",
            "Test score: [0.36300036311149597, 0.8518518805503845]\n"
          ],
          "name": "stdout"
        }
      ]
    },
    {
      "cell_type": "code",
      "metadata": {
        "id": "0TvTy2ly8GDx",
        "colab": {
          "base_uri": "https://localhost:8080/"
        },
        "outputId": "33e0b599-7ceb-43b9-8757-791985f0a20c"
      },
      "source": [
        "#finding best fit iteration\n",
        "def bestfit(loss, val_loss):\n",
        "  diff = []\n",
        "  for i in range(len(loss)):\n",
        "    diff.append(abs(loss[i] - val_loss[i]))\n",
        "    \n",
        "  diff = np.asarray(diff)\n",
        "  return diff.argmin()\n",
        "\n",
        "best_iteration = bestfit(loss, val_loss)\n",
        "best_iteration"
      ],
      "execution_count": null,
      "outputs": [
        {
          "output_type": "execute_result",
          "data": {
            "text/plain": [
              "153"
            ]
          },
          "metadata": {
            "tags": []
          },
          "execution_count": 55
        }
      ]
    },
    {
      "cell_type": "code",
      "metadata": {
        "id": "AcwtrdPx7172",
        "colab": {
          "base_uri": "https://localhost:8080/",
          "height": 297
        },
        "outputId": "21e9b49b-bf28-4e35-b41a-d020fcc08d8a"
      },
      "source": [
        "# Create figure\n",
        "fig, (ax3, ax4) = plt.subplots(2, 1)\n",
        "loss = log_fit_tf.history['loss']\n",
        "val_loss = log_fit_tf.history['val_loss']\n",
        "\n",
        "# log y axis\n",
        "ax3.plot(loss, label = 'Loss')\n",
        "ax3.plot(val_loss, label = 'Val_Loss')\n",
        "ax3.axvline(best_iteration, label='best fit iteration')\n",
        "ax3.legend(loc=\"upper right\")\n",
        "ax3.set(title='All Epochs to see best fit iteration')\n",
        "ax3.set_xlabel(\"Iteration\")\n",
        "ax3.set_ylabel(\"Cross Entropy Error\")\n",
        "#ax3.set_xlim([0, 25])\n",
        "\n",
        "# log x axis\n",
        "ax4.plot(loss, label = 'Loss')\n",
        "ax4.plot(val_loss, label = 'Val_Loss')\n",
        "ax4.legend(loc=\"upper right\")\n",
        "ax4.set(title='Separation between val_loss and Loss')\n",
        "ax4.set_ylabel(\"Cross Entropy Error\")\n",
        "ax4.set_xlabel(\"Iteration\")\n",
        "ax4.set_xlim([best_iteration - 15, best_iteration + 15])\n",
        "ax4.set_ylim([loss[best_iteration] - 0.01, loss[best_iteration] + 0.01])\n",
        "\n",
        "fig.tight_layout()\n",
        "plt.show()"
      ],
      "execution_count": null,
      "outputs": [
        {
          "output_type": "display_data",
          "data": {
            "image/png": "[encoded data removed]",
            "text/plain": [
              "<Figure size 432x288 with 2 Axes>"
            ]
          },
          "metadata": {
            "tags": [],
            "needs_background": "light"
          }
        }
      ]
    }
  ]
}